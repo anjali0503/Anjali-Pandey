{
  "nbformat": 4,
  "nbformat_minor": 0,
  "metadata": {
    "colab": {
      "name": "ASSIGNMENT:01 DAY :4.ipynb",
      "provenance": [],
      "authorship_tag": "ABX9TyP8REZSr/J7aEFxbgx4TAEC",
      "include_colab_link": true
    },
    "kernelspec": {
      "name": "python3",
      "display_name": "Python 3"
    }
  },
  "cells": [
    {
      "cell_type": "markdown",
      "metadata": {
        "id": "view-in-github",
        "colab_type": "text"
      },
      "source": [
        "<a href=\"https://colab.research.google.com/github/anjali0503/Anjali-Pandey/blob/master/ASSIGNMENT_01_DAY_4.ipynb\" target=\"_parent\"><img src=\"https://colab.research.google.com/assets/colab-badge.svg\" alt=\"Open In Colab\"/></a>"
      ]
    },
    {
      "cell_type": "code",
      "metadata": {
        "id": "vOpx4LODb815",
        "colab_type": "code",
        "colab": {
          "base_uri": "https://localhost:8080/",
          "height": 34
        },
        "outputId": "0f3e8149-7ef2-4c54-ff4c-d82d2108fd6a"
      },
      "source": [
        "#Print the first ARMSTRONG NUMBER in range of 1042000 to 702648265 and exit the loop as soon you encounter the first armstrong number\n",
        "\n",
        "lower=1042000\n",
        "upper=702648265\n",
        "for n in range(lower,upper+1):\n",
        "        order=len(str(n))\n",
        "        sum=0\n",
        "        temp=n\n",
        "        while temp>0:\n",
        "            digit=temp%10\n",
        "            sum+=digit**order\n",
        "            temp//=10\n",
        "            break\n",
        "        if n==sum:\n",
        "            print(n)\n",
        "            \n",
        "            "
      ],
      "execution_count": null,
      "outputs": [
        {
          "output_type": "stream",
          "text": [
            "4782969\n"
          ],
          "name": "stdout"
        }
      ]
    }
  ]
}